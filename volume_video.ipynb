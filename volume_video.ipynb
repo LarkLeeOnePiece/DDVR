{
 "cells": [
  {
   "cell_type": "markdown",
   "id": "4e864720",
   "metadata": {},
   "source": [
    "# Here We render the video for the volume"
   ]
  },
  {
   "cell_type": "code",
   "execution_count": 4,
   "id": "e8a9a8ef",
   "metadata": {},
   "outputs": [
    {
     "name": "stdout",
     "output_type": "stream",
     "text": [
      "D:\\Courses\\CS300-ComputationalScientificImaging\\D2VR_CryoET\\D2VR\\scripts\\Full_EXP_2025-05-01_14-36-52\\Real_Denoised_BM3D_wAO_COMPARISON\\Real_Denoised_BM3D_wAO_vol_512x512x512.bin\n",
      "Video saved to D:\\Courses\\CS300-ComputationalScientificImaging\\D2VR_CryoET\\D2VR\\scripts\\Full_EXP_2025-05-01_14-36-52\\Real_Denoised_BM3D_wAO_COMPARISON\\Real_Denoised_BM3D_wAO_vol_512x512x512.mp4\n",
      "D:\\Courses\\CS300-ComputationalScientificImaging\\D2VR_CryoET\\D2VR\\scripts\\Full_EXP_2025-05-01_14-36-52\\Real_Denoised_BM3D_woAO_COMPARISON\\Real_Denoised_BM3D_woAO_vol_512x512x512.bin\n",
      "Video saved to D:\\Courses\\CS300-ComputationalScientificImaging\\D2VR_CryoET\\D2VR\\scripts\\Full_EXP_2025-05-01_14-36-52\\Real_Denoised_BM3D_woAO_COMPARISON\\Real_Denoised_BM3D_woAO_vol_512x512x512.mp4\n",
      "D:\\Courses\\CS300-ComputationalScientificImaging\\D2VR_CryoET\\D2VR\\scripts\\Full_EXP_2025-05-01_14-36-52\\Real_NanoParticles_wAO_COMPARISON\\Real_NanoParticles_wAO_vol_512x512x512.bin\n",
      "Video saved to D:\\Courses\\CS300-ComputationalScientificImaging\\D2VR_CryoET\\D2VR\\scripts\\Full_EXP_2025-05-01_14-36-52\\Real_NanoParticles_wAO_COMPARISON\\Real_NanoParticles_wAO_vol_512x512x512.mp4\n",
      "D:\\Courses\\CS300-ComputationalScientificImaging\\D2VR_CryoET\\D2VR\\scripts\\Full_EXP_2025-05-01_14-36-52\\Real_NanoParticles_woAO_COMPARISON\\Real_NanoParticles_woAO_vol_512x512x512.bin\n",
      "Video saved to D:\\Courses\\CS300-ComputationalScientificImaging\\D2VR_CryoET\\D2VR\\scripts\\Full_EXP_2025-05-01_14-36-52\\Real_NanoParticles_woAO_COMPARISON\\Real_NanoParticles_woAO_vol_512x512x512.mp4\n",
      "D:\\Courses\\CS300-ComputationalScientificImaging\\D2VR_CryoET\\D2VR\\scripts\\Full_EXP_2025-05-01_14-36-52\\Syn_Clean_wAO_COMPARISON\\Syn_Clean_wAO_vol_512x512x512.bin\n",
      "Video saved to D:\\Courses\\CS300-ComputationalScientificImaging\\D2VR_CryoET\\D2VR\\scripts\\Full_EXP_2025-05-01_14-36-52\\Syn_Clean_wAO_COMPARISON\\Syn_Clean_wAO_vol_512x512x512.mp4\n",
      "D:\\Courses\\CS300-ComputationalScientificImaging\\D2VR_CryoET\\D2VR\\scripts\\Full_EXP_2025-05-01_14-36-52\\Syn_Clean_woAO_COMPARISON\\Syn_Clean_woAO_vol_512x512x512.bin\n",
      "Video saved to D:\\Courses\\CS300-ComputationalScientificImaging\\D2VR_CryoET\\D2VR\\scripts\\Full_EXP_2025-05-01_14-36-52\\Syn_Clean_woAO_COMPARISON\\Syn_Clean_woAO_vol_512x512x512.mp4\n",
      "D:\\Courses\\CS300-ComputationalScientificImaging\\D2VR_CryoET\\D2VR\\scripts\\Full_EXP_2025-05-01_14-36-52\\Syn_Noisy_wAO_COMPARISON\\Syn_Noisy_wAO_vol_512x512x512.bin\n",
      "Video saved to D:\\Courses\\CS300-ComputationalScientificImaging\\D2VR_CryoET\\D2VR\\scripts\\Full_EXP_2025-05-01_14-36-52\\Syn_Noisy_wAO_COMPARISON\\Syn_Noisy_wAO_vol_512x512x512.mp4\n",
      "D:\\Courses\\CS300-ComputationalScientificImaging\\D2VR_CryoET\\D2VR\\scripts\\Full_EXP_2025-05-01_14-36-52\\Syn_Noisy_woAO_COMPARISON\\Syn_Noisy_woAO_vol_512x512x512.bin\n",
      "Video saved to D:\\Courses\\CS300-ComputationalScientificImaging\\D2VR_CryoET\\D2VR\\scripts\\Full_EXP_2025-05-01_14-36-52\\Syn_Noisy_woAO_COMPARISON\\Syn_Noisy_woAO_vol_512x512x512.mp4\n"
     ]
    }
   ],
   "source": [
    "import glob\n",
    "import numpy as np\n",
    "import os\n",
    "import cv2\n",
    "\n",
    "\n",
    "def make_video(volume, volume_path):\n",
    "    # 视频保存路径\n",
    "    save_dir = os.path.dirname(volume_path)\n",
    "    fname=volume_path.split('\\\\')[-1].split('.')[0]\n",
    "    video_path = os.path.join(save_dir, f\"{fname}.mp4\")\n",
    "\n",
    "    # 初始化视频写入器\n",
    "    fps = 30  # 每秒帧数\n",
    "    frame_size = (Nx, Ny)  # 宽、高\n",
    "    fourcc = cv2.VideoWriter_fourcc(*'XVID')\n",
    "    video_writer = cv2.VideoWriter(video_path, fourcc, fps, frame_size, isColor=False)\n",
    "\n",
    "    # 写入每一帧\n",
    "    for i in range(Nz):\n",
    "        slice_img = volume[i, :, :]  # 取第i层slice\n",
    "        norm_img = cv2.normalize(slice_img, None, 0, 255, cv2.NORM_MINMAX)\n",
    "        uint8_img = norm_img.astype(np.uint8)\n",
    "        video_writer.write(uint8_img)\n",
    "\n",
    "    video_writer.release()\n",
    "    print(f\"Video saved to {video_path}\")\n",
    "\n",
    "folder = r\"D:\\Courses\\CS300-ComputationalScientificImaging\\D2VR_CryoET\\D2VR\\scripts\\Full_EXP_2025-05-01_14-36-52\"\n",
    "bin_files = glob.glob(f\"{folder}/**/*.bin\", recursive=True)\n",
    "\n",
    "for path in bin_files:\n",
    "    print(path)\n",
    "    filepath = path\n",
    "    Nz,Ny,Nx=512,512,512\n",
    "    volume = np.fromfile(filepath, dtype=np.float32).reshape((Nz, Ny, Nx))\n",
    "    make_video(volume,filepath)\n"
   ]
  }
 ],
 "metadata": {
  "kernelspec": {
   "display_name": "cs300",
   "language": "python",
   "name": "python3"
  },
  "language_info": {
   "codemirror_mode": {
    "name": "ipython",
    "version": 3
   },
   "file_extension": ".py",
   "mimetype": "text/x-python",
   "name": "python",
   "nbconvert_exporter": "python",
   "pygments_lexer": "ipython3",
   "version": "3.8.20"
  }
 },
 "nbformat": 4,
 "nbformat_minor": 5
}
